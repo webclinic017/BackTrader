{
 "cells": [
  {
   "cell_type": "markdown",
   "id": "348df0b1",
   "metadata": {},
   "source": [
    "### Uptrend Criteria"
   ]
  },
  {
   "cell_type": "markdown",
   "id": "2d151e19",
   "metadata": {},
   "source": [
    "1. dataclose > ema1 and dataclose > ema2\n",
    "2. (ema1 - ema2) > 1ATR (Same time frame)\n",
    "3. ema1Slope > 0 ema2Slope > 0"
   ]
  },
  {
   "cell_type": "markdown",
   "id": "8107baf3",
   "metadata": {},
   "source": [
    "### Downtrend Criteria"
   ]
  },
  {
   "cell_type": "markdown",
   "id": "6c92155e",
   "metadata": {},
   "source": [
    "1. dataclose < ema1 and dataclose < ema2\n",
    "2. (ema2 - ema1) > 1ATR (Same time frame)\n",
    "3. ema1Slope > 0 ema2Slope > 0"
   ]
  },
  {
   "cell_type": "markdown",
   "id": "3b214cf4",
   "metadata": {},
   "source": [
    "### Conditions for Bullish Entry"
   ]
  },
  {
   "cell_type": "code",
   "execution_count": null,
   "id": "1a9f2a0e",
   "metadata": {},
   "outputs": [],
   "source": [
    "1. Trend Established (Bullish)\n",
    "2. (datahigh>= ema1 >= datalow) or (datahigh>= ema2 >= datalow) "
   ]
  },
  {
   "cell_type": "code",
   "execution_count": 3,
   "id": "23c8963e",
   "metadata": {},
   "outputs": [],
   "source": [
    "import backtrader as bt\n",
    "import backtrader.indicators as btind\n",
    "from datetime import datetime\n"
   ]
  },
  {
   "cell_type": "code",
   "execution_count": null,
   "id": "e022ab27",
   "metadata": {},
   "outputs": [],
   "source": []
  },
  {
   "cell_type": "code",
   "execution_count": null,
   "id": "f399fd8b",
   "metadata": {},
   "outputs": [],
   "source": []
  },
  {
   "cell_type": "code",
   "execution_count": null,
   "id": "abbb505e",
   "metadata": {},
   "outputs": [],
   "source": [
    "class BarStrategy(bt.Strategy):\n",
    "    \n",
    "    params = (\n",
    "        ('ema1',20),\n",
    "        ('ema2',50),\n",
    "        ('printlog',True),\n",
    "        ('optim':False),\n",
    "        ('optim_fs':(20,50))\n",
    "    )\n",
    "    \"\"\"Logging function for this strategy\"\"\"\n",
    "    def log(self, txt,dt=None,doprint=False):\n",
    "        if self.params.printlog or doprint:\n",
    "            dt = dt or self.datas[0].datetime.date(0)\n",
    "            print(f\"{dt.isoformat()} >> {txt}\")\n",
    "        \n",
    "    def __init__(self):\n",
    "        \"\"\"Keep ref. to close in data[0] series\"\"\"\n",
    "        self.dataclose = self.datas[0].close\n",
    "        self.ema1 = btind.EMA(dataclose,period=self.params.ema1,plotname=f'EMA{self.params.ema1}')\n",
    "        self.ema2 = btind.EMA(dataclose,period=self.params.ema2,plotname=f'EMA{self.params.ema2}')\n",
    "        # To keep track of pending orders | buy price | commission\n",
    "        self.order = None\n",
    "        self.buyprice = None\n",
    "        self.buycomm = None\n",
    "        self.grossprofit = 0\n",
    "        self.netprofit = 0\n",
    "        \n",
    "    def notify_order(self,order):\n",
    "        if order.status in [order.Submitted, order.Accepted]:\n",
    "            # Buy/Sell Order submitted/accepted to/by broker - Nothing to do\n",
    "            return\n",
    "        \n",
    "        # Check if an order has been completed\n",
    "        # Broker could reject order if not enough cash\n",
    "        if order.status in [order.Completed]:\n",
    "            if order.isbuy():\n",
    "                self.log(f'BUY EXECUTED! Price: {order.executed.price} | Cost: {order.executed.value} | Comm: {order.executed.comm}')\n",
    "                self.buyprice = order.executed.price\n",
    "                self.buycomm = order.executed.comm\n",
    "            elif order.issell():\n",
    "                self.log(f'SELL EXECUTED! {order.executed.price} | Cost: {order.executed.value} | Comm: {order.executed.comm}')\n",
    "                \n",
    "            self.bar_executed = len(self)\n",
    "        \n",
    "        elif order.status in [order.Cancelled,order.Margin,order.Rejected]:\n",
    "            sef.log('Order Cancelled/Margin/Rejected')\n",
    "            \n",
    "        self.order = None\n",
    "        \n",
    "    def notify_trade(self,trade):\n",
    "        if not trade.isclosed:\n",
    "            return\n",
    "        self.log(f'OPERATION PROFIT, GROSS: {trade.pnl} | NET: {trade.pnlcomm}')\n",
    "        self.grossprofit+=trade.pnl\n",
    "        self.netprofit+=trade.pnlcomm\n",
    "        \n",
    "    def next(self):\n",
    "        \"\"\"Adding the Logic Here\"\"\"\n",
    "        # Log Current Closing Price of the Series\n",
    "        self.log(f'Close: {self.dataclose[0]}')\n",
    "        \n",
    "        # Check if an order is pending >> Not sending another one if yes\n",
    "        if self.order:\n",
    "            return\n",
    "        # Check if we are in the market\n",
    "        if not self.position:\n",
    "            # We might buy if conditions are right\n",
    "            if self.dataclose[0] < self.dataclose[-1] < self.dataclose[-2]:\n",
    "                # if current close < previous close < previous close (2 candle)\n",
    "                self.log(f\"BUY CREATE: {self.dataclose[0]}\")\n",
    "                self.order = self.buy()\n",
    "        else:\n",
    "            # Already in the market >> we might sell\n",
    "            if len(self)>=(self.bar_executed + self.params.barback):\n",
    "                # SELL WITH DEFAULT PARAMS\n",
    "                self.log(f\"SELL CREATE: {self.dataclose[0]}\")\n",
    "                # Keeping track of created order to avoid the second order\n",
    "                self.order = self.sell()\n",
    "    def stop(self):\n",
    "        self.log(f\"Param: {self.params.barback} >> EndingValue: {self.broker.getvalue()} | GROSS: {self.grossprofit} | NET: {self.netprofit}\",doprint=True)"
   ]
  }
 ],
 "metadata": {
  "kernelspec": {
   "display_name": "Python 3 (ipykernel)",
   "language": "python",
   "name": "python3"
  },
  "language_info": {
   "codemirror_mode": {
    "name": "ipython",
    "version": 3
   },
   "file_extension": ".py",
   "mimetype": "text/x-python",
   "name": "python",
   "nbconvert_exporter": "python",
   "pygments_lexer": "ipython3",
   "version": "3.10.4"
  }
 },
 "nbformat": 4,
 "nbformat_minor": 5
}
