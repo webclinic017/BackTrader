{
 "cells": [
  {
   "cell_type": "code",
   "execution_count": 1,
   "id": "a260dd3a",
   "metadata": {},
   "outputs": [],
   "source": [
    "import os\n",
    "import backtrader as bt"
   ]
  },
  {
   "cell_type": "code",
   "execution_count": 2,
   "id": "57d8812f",
   "metadata": {},
   "outputs": [],
   "source": [
    "def questrade_feed(ticker,time_frame):\n",
    "    # DATA PATH\n",
    "    ticker_path = os.path.join(os.getenv(\"STOCK_DATA_PATH\"),'OHLC',time_frame,f'{ticker}.csv')\n",
    "    # TIME FORMAT\n",
    "    if time_frame[-1] in ['m','s']:\n",
    "        _format = '%Y-%m-%d %H:%M:%S'\n",
    "    elif time_frame[-1] in ['D','W','M']:\n",
    "        _format = '%Y-%m-%d'\n",
    "        \n",
    "    data = bt.feeds.GenericCSVData(\n",
    "        dataname=ticker_path,\n",
    "        name=ticker,\n",
    "        nullvalue=0.0,\n",
    "        dtformat=_format,\n",
    "        datetime=0,\n",
    "        low=3,\n",
    "        high=4,\n",
    "        open=5,\n",
    "        close=6,\n",
    "        volume=7,\n",
    "        openinterest=-1,\n",
    "        vwap=8\n",
    "    )\n",
    "    return data"
   ]
  },
  {
   "cell_type": "code",
   "execution_count": null,
   "id": "40ed6537",
   "metadata": {},
   "outputs": [],
   "source": []
  }
 ],
 "metadata": {
  "kernelspec": {
   "display_name": "Python 3 (ipykernel)",
   "language": "python",
   "name": "python3"
  },
  "language_info": {
   "codemirror_mode": {
    "name": "ipython",
    "version": 3
   },
   "file_extension": ".py",
   "mimetype": "text/x-python",
   "name": "python",
   "nbconvert_exporter": "python",
   "pygments_lexer": "ipython3",
   "version": "3.10.4"
  }
 },
 "nbformat": 4,
 "nbformat_minor": 5
}
