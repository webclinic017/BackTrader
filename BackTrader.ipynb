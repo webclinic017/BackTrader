{
 "cells": [
  {
   "cell_type": "markdown",
   "id": "50ef13f2",
   "metadata": {},
   "source": [
    "#### 1. BASIC SETUP\n",
    "#### 2. LOAD CSV DATAFEED\n",
    "#### 3. ACCESS DATA FEED\n",
    "#### 4. ITERATE OVER CLOSING PRICE"
   ]
  },
  {
   "cell_type": "code",
   "execution_count": 1,
   "id": "f6518e11",
   "metadata": {},
   "outputs": [],
   "source": [
    "import backtrader as bt\n",
    "import pandas as pd"
   ]
  },
  {
   "cell_type": "code",
   "execution_count": 2,
   "id": "e626754d",
   "metadata": {},
   "outputs": [
    {
     "name": "stdout",
     "output_type": "stream",
     "text": [
      "Starting Portfolio Value: 100000.00\n",
      "Final Portfolio Value: 100000.00\n"
     ]
    }
   ],
   "source": [
    "if __name__ == '__main__':\n",
    "    cerebro = bt.Cerebro()\n",
    "    cerebro.broker.setcash(100000.0)\n",
    "    print('Starting Portfolio Value: %.2f' % cerebro.broker.getvalue())\n",
    "\n",
    "    cerebro.run()\n",
    "\n",
    "    print('Final Portfolio Value: %.2f' % cerebro.broker.getvalue())"
   ]
  },
  {
   "cell_type": "markdown",
   "id": "b322e182",
   "metadata": {},
   "source": [
    "### Adding a Data Feed"
   ]
  },
  {
   "cell_type": "code",
   "execution_count": 3,
   "id": "06e84565",
   "metadata": {},
   "outputs": [],
   "source": [
    "import backtrader as bt\n",
    "import pandas as pd"
   ]
  },
  {
   "cell_type": "code",
   "execution_count": 4,
   "id": "ad5d435d",
   "metadata": {},
   "outputs": [],
   "source": [
    "from datetime import datetime\n",
    "import os\n",
    "import sys"
   ]
  },
  {
   "cell_type": "code",
   "execution_count": 5,
   "id": "51b76596",
   "metadata": {},
   "outputs": [],
   "source": [
    "ticker = 'SPY'\n",
    "time_frame = '5m'\n",
    "ticker_path = os.path.join(os.getenv(\"STOCK_DATA_PATH\"),'OHLC',time_frame,f'{ticker}.csv')"
   ]
  },
  {
   "cell_type": "markdown",
   "id": "38c57292",
   "metadata": {},
   "source": [
    "### LOADING DATA FROM CSV FILE \n",
    "* WITH HIGH LOW OPEN CLOSE VOLUME SEQUENCE"
   ]
  },
  {
   "cell_type": "code",
   "execution_count": 6,
   "id": "014bbb82",
   "metadata": {},
   "outputs": [],
   "source": [
    "if time_frame[-1] in ['m','s']:\n",
    "    _format = '%Y-%m-%d %H:%M:%S'\n",
    "elif time_frame[-1] in ['D','W','M']:\n",
    "    _format = '%Y-%m-%d'"
   ]
  },
  {
   "cell_type": "code",
   "execution_count": 7,
   "id": "60a45d6f",
   "metadata": {},
   "outputs": [
    {
     "data": {
      "text/plain": [
       "'%Y-%m-%d %H:%M:%S'"
      ]
     },
     "execution_count": 7,
     "metadata": {},
     "output_type": "execute_result"
    }
   ],
   "source": [
    "_format"
   ]
  },
  {
   "cell_type": "code",
   "execution_count": 8,
   "id": "fbde66b6",
   "metadata": {},
   "outputs": [],
   "source": [
    "data = bt.feeds.GenericCSVData(\n",
    "    dataname=ticker_path,\n",
    "    name=ticker,\n",
    "    nullvalue=0.0,\n",
    "    dtformat=_format,\n",
    "    datetime=0,\n",
    "    low=3,\n",
    "    high=4,\n",
    "    open=5,\n",
    "    close=6,\n",
    "    volume=7,\n",
    "    openinterest=-1,\n",
    "    vwap=8\n",
    ")"
   ]
  },
  {
   "cell_type": "code",
   "execution_count": null,
   "id": "8dd5ed1a",
   "metadata": {},
   "outputs": [],
   "source": []
  },
  {
   "cell_type": "code",
   "execution_count": null,
   "id": "53d2e24f",
   "metadata": {},
   "outputs": [],
   "source": [
    "# data = bt.feeds.GenericCSVData(\n",
    "#     dataname=f'{ticker}.csv',\n",
    "#     name=ticker,\n",
    "#     nullvalue=0.0,\n",
    "#     dtformat='%Y-%m-%d',\n",
    "#     datetime=0,\n",
    "#     high=1,\n",
    "#     low=2,\n",
    "#     open=3,\n",
    "#     close=4,\n",
    "#     volume=5,\n",
    "#     openinterest=-1\n",
    "# )"
   ]
  },
  {
   "cell_type": "code",
   "execution_count": 9,
   "id": "56afb6b0",
   "metadata": {},
   "outputs": [
    {
     "name": "stdout",
     "output_type": "stream",
     "text": [
      "Starting Portfolio Value: 10000.00\n"
     ]
    },
    {
     "data": {
      "text/plain": [
       "[<backtrader.strategy.Strategy at 0x10ed8acb0>]"
      ]
     },
     "execution_count": 9,
     "metadata": {},
     "output_type": "execute_result"
    }
   ],
   "source": [
    "# Instantiate Cerebro\n",
    "cerebro = bt.Cerebro()\n",
    "# ADD FEED\n",
    "cerebro.adddata(data)\n",
    "\n",
    "cerebro.broker.set_cash(10000.0)\n",
    "print('Starting Portfolio Value: %.2f' % cerebro.broker.get_value())\n",
    "# RUN\n",
    "cerebro.run()"
   ]
  },
  {
   "cell_type": "markdown",
   "id": "6211addc",
   "metadata": {},
   "source": [
    "### Accessing Data From Feed"
   ]
  },
  {
   "cell_type": "code",
   "execution_count": 10,
   "id": "682c0274",
   "metadata": {},
   "outputs": [
    {
     "data": {
      "text/plain": [
       "datetime.date(2022, 3, 25)"
      ]
     },
     "execution_count": 10,
     "metadata": {},
     "output_type": "execute_result"
    }
   ],
   "source": [
    "# ACCESSING DATETIME - TIMESTAMP\n",
    "cerebro.datas[0].datetime.date(0)\n"
   ]
  },
  {
   "cell_type": "code",
   "execution_count": 11,
   "id": "dfada3bb",
   "metadata": {},
   "outputs": [
    {
     "data": {
      "text/plain": [
       "450.1955"
      ]
     },
     "execution_count": 11,
     "metadata": {},
     "output_type": "execute_result"
    }
   ],
   "source": [
    "# ACCESSING LAST CLOSING PRICE\n",
    "cerebro.datas[0].close[0]"
   ]
  },
  {
   "cell_type": "code",
   "execution_count": 12,
   "id": "b1644caa",
   "metadata": {},
   "outputs": [
    {
     "data": {
      "text/plain": [
       "1014545.0"
      ]
     },
     "execution_count": 12,
     "metadata": {},
     "output_type": "execute_result"
    }
   ],
   "source": [
    "cerebro.datas[0].volume[0]"
   ]
  },
  {
   "cell_type": "code",
   "execution_count": 13,
   "id": "d328ecd6",
   "metadata": {},
   "outputs": [],
   "source": [
    "# GETTING ENTIRE FEED PRINTED\n",
    "class TestStrategy(bt.Strategy):\n",
    "    \n",
    "    def log(self, txt, dt=None):\n",
    "        \"\"\"Logging Func. for This Strategy\"\"\"\n",
    "        dt = dt or self.datas[0].datetime.date(0)\n",
    "        print(f\"{dt} >> {txt}\")\n",
    "    \n",
    "    def __init__(self):\n",
    "        \"\"\"\n",
    "        Keep a reference to Close Line in data[0] dataseries\n",
    "        \"\"\"\n",
    "        self.dataclose = self.datas[0].close\n",
    "    \n",
    "    def next(self):\n",
    "        self.log(f'Close {self.dataclose[0]}')"
   ]
  },
  {
   "cell_type": "code",
   "execution_count": 14,
   "id": "dcd1ea5d",
   "metadata": {},
   "outputs": [],
   "source": [
    "cerebro = bt.Cerebro()"
   ]
  },
  {
   "cell_type": "code",
   "execution_count": 15,
   "id": "ee89f316",
   "metadata": {},
   "outputs": [
    {
     "data": {
      "text/plain": [
       "0"
      ]
     },
     "execution_count": 15,
     "metadata": {},
     "output_type": "execute_result"
    }
   ],
   "source": [
    "cerebro.addstrategy(TestStrategy)"
   ]
  },
  {
   "cell_type": "code",
   "execution_count": 16,
   "id": "607e002d",
   "metadata": {},
   "outputs": [],
   "source": [
    "data = bt.feeds.GenericCSVData(\n",
    "    dataname=ticker_path,\n",
    "    name=ticker,\n",
    "    nullvalue=0.0,\n",
    "    dtformat='%Y-%m-%d',\n",
    "    datetime=0,\n",
    "    low=3,\n",
    "    high=4,\n",
    "    open=5,\n",
    "    close=6,\n",
    "    volume=7,\n",
    "    openinterest=-1,\n",
    "    vwap=8\n",
    ")"
   ]
  },
  {
   "cell_type": "code",
   "execution_count": 17,
   "id": "ad3291ea",
   "metadata": {},
   "outputs": [
    {
     "data": {
      "text/plain": [
       "<backtrader.feeds.csvgeneric.GenericCSVData at 0x11cd6d660>"
      ]
     },
     "execution_count": 17,
     "metadata": {},
     "output_type": "execute_result"
    }
   ],
   "source": [
    "cerebro.adddata(data)"
   ]
  },
  {
   "cell_type": "code",
   "execution_count": 18,
   "id": "2e4f00c0",
   "metadata": {},
   "outputs": [],
   "source": [
    "cerebro.broker.setcash(10000.0)"
   ]
  },
  {
   "cell_type": "code",
   "execution_count": 19,
   "id": "72fd6641",
   "metadata": {},
   "outputs": [
    {
     "name": "stdout",
     "output_type": "stream",
     "text": [
      "Starting Portfolio value: 10000.0\n"
     ]
    },
    {
     "ename": "ValueError",
     "evalue": "unconverted data remains:  04:20:00",
     "output_type": "error",
     "traceback": [
      "\u001b[0;31m---------------------------------------------------------------------------\u001b[0m",
      "\u001b[0;31mValueError\u001b[0m                                Traceback (most recent call last)",
      "Input \u001b[0;32mIn [19]\u001b[0m, in \u001b[0;36m<cell line: 2>\u001b[0;34m()\u001b[0m\n\u001b[1;32m      1\u001b[0m \u001b[38;5;28mprint\u001b[39m(\u001b[38;5;124mf\u001b[39m\u001b[38;5;124m\"\u001b[39m\u001b[38;5;124mStarting Portfolio value: \u001b[39m\u001b[38;5;132;01m{\u001b[39;00mcerebro\u001b[38;5;241m.\u001b[39mbroker\u001b[38;5;241m.\u001b[39mgetvalue()\u001b[38;5;132;01m}\u001b[39;00m\u001b[38;5;124m\"\u001b[39m)\n\u001b[0;32m----> 2\u001b[0m \u001b[43mcerebro\u001b[49m\u001b[38;5;241;43m.\u001b[39;49m\u001b[43mrun\u001b[49m\u001b[43m(\u001b[49m\u001b[43m)\u001b[49m\n\u001b[1;32m      3\u001b[0m \u001b[38;5;28mprint\u001b[39m(\u001b[38;5;124mf\u001b[39m\u001b[38;5;124m\"\u001b[39m\u001b[38;5;124mFinal Portfolio Value: \u001b[39m\u001b[38;5;132;01m{\u001b[39;00mcerebro\u001b[38;5;241m.\u001b[39mbroker\u001b[38;5;241m.\u001b[39mgetvalue()\u001b[38;5;132;01m}\u001b[39;00m\u001b[38;5;124m\"\u001b[39m)\n",
      "File \u001b[0;32m/Library/Frameworks/Python.framework/Versions/3.10/lib/python3.10/site-packages/backtrader/cerebro.py:1131\u001b[0m, in \u001b[0;36mCerebro.run\u001b[0;34m(self, **kwargs)\u001b[0m\n\u001b[1;32m   1127\u001b[0m \u001b[38;5;28;01mif\u001b[39;00m \u001b[38;5;129;01mnot\u001b[39;00m \u001b[38;5;28mself\u001b[39m\u001b[38;5;241m.\u001b[39m_dooptimize \u001b[38;5;129;01mor\u001b[39;00m \u001b[38;5;28mself\u001b[39m\u001b[38;5;241m.\u001b[39mp\u001b[38;5;241m.\u001b[39mmaxcpus \u001b[38;5;241m==\u001b[39m \u001b[38;5;241m1\u001b[39m:\n\u001b[1;32m   1128\u001b[0m     \u001b[38;5;66;03m# If no optimmization is wished ... or 1 core is to be used\u001b[39;00m\n\u001b[1;32m   1129\u001b[0m     \u001b[38;5;66;03m# let's skip process \"spawning\"\u001b[39;00m\n\u001b[1;32m   1130\u001b[0m     \u001b[38;5;28;01mfor\u001b[39;00m iterstrat \u001b[38;5;129;01min\u001b[39;00m iterstrats:\n\u001b[0;32m-> 1131\u001b[0m         runstrat \u001b[38;5;241m=\u001b[39m \u001b[38;5;28;43mself\u001b[39;49m\u001b[38;5;241;43m.\u001b[39;49m\u001b[43mrunstrategies\u001b[49m\u001b[43m(\u001b[49m\u001b[43miterstrat\u001b[49m\u001b[43m)\u001b[49m\n\u001b[1;32m   1132\u001b[0m         \u001b[38;5;28mself\u001b[39m\u001b[38;5;241m.\u001b[39mrunstrats\u001b[38;5;241m.\u001b[39mappend(runstrat)\n\u001b[1;32m   1133\u001b[0m         \u001b[38;5;28;01mif\u001b[39;00m \u001b[38;5;28mself\u001b[39m\u001b[38;5;241m.\u001b[39m_dooptimize:\n",
      "File \u001b[0;32m/Library/Frameworks/Python.framework/Versions/3.10/lib/python3.10/site-packages/backtrader/cerebro.py:1216\u001b[0m, in \u001b[0;36mCerebro.runstrategies\u001b[0;34m(self, iterstrat, predata)\u001b[0m\n\u001b[1;32m   1214\u001b[0m         data\u001b[38;5;241m.\u001b[39m_start()\n\u001b[1;32m   1215\u001b[0m         \u001b[38;5;28;01mif\u001b[39;00m \u001b[38;5;28mself\u001b[39m\u001b[38;5;241m.\u001b[39m_dopreload:\n\u001b[0;32m-> 1216\u001b[0m             \u001b[43mdata\u001b[49m\u001b[38;5;241;43m.\u001b[39;49m\u001b[43mpreload\u001b[49m\u001b[43m(\u001b[49m\u001b[43m)\u001b[49m\n\u001b[1;32m   1218\u001b[0m \u001b[38;5;28;01mfor\u001b[39;00m stratcls, sargs, skwargs \u001b[38;5;129;01min\u001b[39;00m iterstrat:\n\u001b[1;32m   1219\u001b[0m     sargs \u001b[38;5;241m=\u001b[39m \u001b[38;5;28mself\u001b[39m\u001b[38;5;241m.\u001b[39mdatas \u001b[38;5;241m+\u001b[39m \u001b[38;5;28mlist\u001b[39m(sargs)\n",
      "File \u001b[0;32m/Library/Frameworks/Python.framework/Versions/3.10/lib/python3.10/site-packages/backtrader/feed.py:688\u001b[0m, in \u001b[0;36mCSVDataBase.preload\u001b[0;34m(self)\u001b[0m\n\u001b[1;32m    687\u001b[0m \u001b[38;5;28;01mdef\u001b[39;00m \u001b[38;5;21mpreload\u001b[39m(\u001b[38;5;28mself\u001b[39m):\n\u001b[0;32m--> 688\u001b[0m     \u001b[38;5;28;01mwhile\u001b[39;00m \u001b[38;5;28;43mself\u001b[39;49m\u001b[38;5;241;43m.\u001b[39;49m\u001b[43mload\u001b[49m\u001b[43m(\u001b[49m\u001b[43m)\u001b[49m:\n\u001b[1;32m    689\u001b[0m         \u001b[38;5;28;01mpass\u001b[39;00m\n\u001b[1;32m    691\u001b[0m     \u001b[38;5;28mself\u001b[39m\u001b[38;5;241m.\u001b[39m_last()\n",
      "File \u001b[0;32m/Library/Frameworks/Python.framework/Versions/3.10/lib/python3.10/site-packages/backtrader/feed.py:479\u001b[0m, in \u001b[0;36mAbstractDataBase.load\u001b[0;34m(self)\u001b[0m\n\u001b[1;32m    476\u001b[0m     \u001b[38;5;28;01mreturn\u001b[39;00m \u001b[38;5;28;01mTrue\u001b[39;00m\n\u001b[1;32m    478\u001b[0m \u001b[38;5;28;01mif\u001b[39;00m \u001b[38;5;129;01mnot\u001b[39;00m \u001b[38;5;28mself\u001b[39m\u001b[38;5;241m.\u001b[39m_fromstack(stash\u001b[38;5;241m=\u001b[39m\u001b[38;5;28;01mTrue\u001b[39;00m):\n\u001b[0;32m--> 479\u001b[0m     _loadret \u001b[38;5;241m=\u001b[39m \u001b[38;5;28;43mself\u001b[39;49m\u001b[38;5;241;43m.\u001b[39;49m\u001b[43m_load\u001b[49m\u001b[43m(\u001b[49m\u001b[43m)\u001b[49m\n\u001b[1;32m    480\u001b[0m     \u001b[38;5;28;01mif\u001b[39;00m \u001b[38;5;129;01mnot\u001b[39;00m _loadret:  \u001b[38;5;66;03m# no bar use force to make sure in exactbars\u001b[39;00m\n\u001b[1;32m    481\u001b[0m         \u001b[38;5;66;03m# the pointer is undone this covers especially (but not\u001b[39;00m\n\u001b[1;32m    482\u001b[0m         \u001b[38;5;66;03m# uniquely) the case in which the last bar has been seen\u001b[39;00m\n\u001b[1;32m    483\u001b[0m         \u001b[38;5;66;03m# and a backwards would ruin pointer accounting in the\u001b[39;00m\n\u001b[1;32m    484\u001b[0m         \u001b[38;5;66;03m# \"stop\" method of the strategy\u001b[39;00m\n\u001b[1;32m    485\u001b[0m         \u001b[38;5;28mself\u001b[39m\u001b[38;5;241m.\u001b[39mbackwards(force\u001b[38;5;241m=\u001b[39m\u001b[38;5;28;01mTrue\u001b[39;00m)  \u001b[38;5;66;03m# undo data pointer\u001b[39;00m\n",
      "File \u001b[0;32m/Library/Frameworks/Python.framework/Versions/3.10/lib/python3.10/site-packages/backtrader/feed.py:710\u001b[0m, in \u001b[0;36mCSVDataBase._load\u001b[0;34m(self)\u001b[0m\n\u001b[1;32m    708\u001b[0m line \u001b[38;5;241m=\u001b[39m line\u001b[38;5;241m.\u001b[39mrstrip(\u001b[38;5;124m'\u001b[39m\u001b[38;5;130;01m\\n\u001b[39;00m\u001b[38;5;124m'\u001b[39m)\n\u001b[1;32m    709\u001b[0m linetokens \u001b[38;5;241m=\u001b[39m line\u001b[38;5;241m.\u001b[39msplit(\u001b[38;5;28mself\u001b[39m\u001b[38;5;241m.\u001b[39mseparator)\n\u001b[0;32m--> 710\u001b[0m \u001b[38;5;28;01mreturn\u001b[39;00m \u001b[38;5;28;43mself\u001b[39;49m\u001b[38;5;241;43m.\u001b[39;49m\u001b[43m_loadline\u001b[49m\u001b[43m(\u001b[49m\u001b[43mlinetokens\u001b[49m\u001b[43m)\u001b[49m\n",
      "File \u001b[0;32m/Library/Frameworks/Python.framework/Versions/3.10/lib/python3.10/site-packages/backtrader/feeds/csvgeneric.py:114\u001b[0m, in \u001b[0;36mGenericCSVData._loadline\u001b[0;34m(self, linetokens)\u001b[0m\n\u001b[1;32m    111\u001b[0m         dtfield \u001b[38;5;241m+\u001b[39m\u001b[38;5;241m=\u001b[39m \u001b[38;5;124m'\u001b[39m\u001b[38;5;124mT\u001b[39m\u001b[38;5;124m'\u001b[39m \u001b[38;5;241m+\u001b[39m linetokens[\u001b[38;5;28mself\u001b[39m\u001b[38;5;241m.\u001b[39mp\u001b[38;5;241m.\u001b[39mtime]\n\u001b[1;32m    112\u001b[0m         dtformat \u001b[38;5;241m+\u001b[39m\u001b[38;5;241m=\u001b[39m \u001b[38;5;124m'\u001b[39m\u001b[38;5;124mT\u001b[39m\u001b[38;5;124m'\u001b[39m \u001b[38;5;241m+\u001b[39m \u001b[38;5;28mself\u001b[39m\u001b[38;5;241m.\u001b[39mp\u001b[38;5;241m.\u001b[39mtmformat\n\u001b[0;32m--> 114\u001b[0m     dt \u001b[38;5;241m=\u001b[39m \u001b[43mdatetime\u001b[49m\u001b[38;5;241;43m.\u001b[39;49m\u001b[43mstrptime\u001b[49m\u001b[43m(\u001b[49m\u001b[43mdtfield\u001b[49m\u001b[43m,\u001b[49m\u001b[43m \u001b[49m\u001b[43mdtformat\u001b[49m\u001b[43m)\u001b[49m\n\u001b[1;32m    115\u001b[0m \u001b[38;5;28;01melse\u001b[39;00m:\n\u001b[1;32m    116\u001b[0m     dt \u001b[38;5;241m=\u001b[39m \u001b[38;5;28mself\u001b[39m\u001b[38;5;241m.\u001b[39m_dtconvert(dtfield)\n",
      "File \u001b[0;32m/Library/Frameworks/Python.framework/Versions/3.10/lib/python3.10/_strptime.py:568\u001b[0m, in \u001b[0;36m_strptime_datetime\u001b[0;34m(cls, data_string, format)\u001b[0m\n\u001b[1;32m    565\u001b[0m \u001b[38;5;28;01mdef\u001b[39;00m \u001b[38;5;21m_strptime_datetime\u001b[39m(\u001b[38;5;28mcls\u001b[39m, data_string, \u001b[38;5;28mformat\u001b[39m\u001b[38;5;241m=\u001b[39m\u001b[38;5;124m\"\u001b[39m\u001b[38;5;132;01m%a\u001b[39;00m\u001b[38;5;124m \u001b[39m\u001b[38;5;124m%\u001b[39m\u001b[38;5;124mb \u001b[39m\u001b[38;5;132;01m%d\u001b[39;00m\u001b[38;5;124m \u001b[39m\u001b[38;5;124m%\u001b[39m\u001b[38;5;124mH:\u001b[39m\u001b[38;5;124m%\u001b[39m\u001b[38;5;124mM:\u001b[39m\u001b[38;5;124m%\u001b[39m\u001b[38;5;124mS \u001b[39m\u001b[38;5;124m%\u001b[39m\u001b[38;5;124mY\u001b[39m\u001b[38;5;124m\"\u001b[39m):\n\u001b[1;32m    566\u001b[0m     \u001b[38;5;124;03m\"\"\"Return a class cls instance based on the input string and the\u001b[39;00m\n\u001b[1;32m    567\u001b[0m \u001b[38;5;124;03m    format string.\"\"\"\u001b[39;00m\n\u001b[0;32m--> 568\u001b[0m     tt, fraction, gmtoff_fraction \u001b[38;5;241m=\u001b[39m \u001b[43m_strptime\u001b[49m\u001b[43m(\u001b[49m\u001b[43mdata_string\u001b[49m\u001b[43m,\u001b[49m\u001b[43m \u001b[49m\u001b[38;5;28;43mformat\u001b[39;49m\u001b[43m)\u001b[49m\n\u001b[1;32m    569\u001b[0m     tzname, gmtoff \u001b[38;5;241m=\u001b[39m tt[\u001b[38;5;241m-\u001b[39m\u001b[38;5;241m2\u001b[39m:]\n\u001b[1;32m    570\u001b[0m     args \u001b[38;5;241m=\u001b[39m tt[:\u001b[38;5;241m6\u001b[39m] \u001b[38;5;241m+\u001b[39m (fraction,)\n",
      "File \u001b[0;32m/Library/Frameworks/Python.framework/Versions/3.10/lib/python3.10/_strptime.py:352\u001b[0m, in \u001b[0;36m_strptime\u001b[0;34m(data_string, format)\u001b[0m\n\u001b[1;32m    349\u001b[0m     \u001b[38;5;28;01mraise\u001b[39;00m \u001b[38;5;167;01mValueError\u001b[39;00m(\u001b[38;5;124m\"\u001b[39m\u001b[38;5;124mtime data \u001b[39m\u001b[38;5;132;01m%r\u001b[39;00m\u001b[38;5;124m does not match format \u001b[39m\u001b[38;5;132;01m%r\u001b[39;00m\u001b[38;5;124m\"\u001b[39m \u001b[38;5;241m%\u001b[39m\n\u001b[1;32m    350\u001b[0m                      (data_string, \u001b[38;5;28mformat\u001b[39m))\n\u001b[1;32m    351\u001b[0m \u001b[38;5;28;01mif\u001b[39;00m \u001b[38;5;28mlen\u001b[39m(data_string) \u001b[38;5;241m!=\u001b[39m found\u001b[38;5;241m.\u001b[39mend():\n\u001b[0;32m--> 352\u001b[0m     \u001b[38;5;28;01mraise\u001b[39;00m \u001b[38;5;167;01mValueError\u001b[39;00m(\u001b[38;5;124m\"\u001b[39m\u001b[38;5;124munconverted data remains: \u001b[39m\u001b[38;5;132;01m%s\u001b[39;00m\u001b[38;5;124m\"\u001b[39m \u001b[38;5;241m%\u001b[39m\n\u001b[1;32m    353\u001b[0m                       data_string[found\u001b[38;5;241m.\u001b[39mend():])\n\u001b[1;32m    355\u001b[0m iso_year \u001b[38;5;241m=\u001b[39m year \u001b[38;5;241m=\u001b[39m \u001b[38;5;28;01mNone\u001b[39;00m\n\u001b[1;32m    356\u001b[0m month \u001b[38;5;241m=\u001b[39m day \u001b[38;5;241m=\u001b[39m \u001b[38;5;241m1\u001b[39m\n",
      "\u001b[0;31mValueError\u001b[0m: unconverted data remains:  04:20:00"
     ]
    }
   ],
   "source": [
    "print(f\"Starting Portfolio value: {cerebro.broker.getvalue()}\")\n",
    "cerebro.run()\n",
    "print(f\"Final Portfolio Value: {cerebro.broker.getvalue()}\")"
   ]
  },
  {
   "cell_type": "code",
   "execution_count": null,
   "id": "59e7b7c8",
   "metadata": {},
   "outputs": [],
   "source": []
  },
  {
   "cell_type": "code",
   "execution_count": null,
   "id": "61d2881d",
   "metadata": {},
   "outputs": [],
   "source": []
  },
  {
   "cell_type": "code",
   "execution_count": null,
   "id": "ecdb1e74",
   "metadata": {},
   "outputs": [],
   "source": [
    "# _df = pd.read_csv(ticker_path)\n",
    "\n",
    "# _df.Date = pd.to_datetime(_df.Date)\n",
    "\n",
    "# _df.set_index('Date',inplace=True)\n",
    "\n",
    "# _df.drop(['StartTime','EndTime'],axis=1,inplace=True)"
   ]
  },
  {
   "cell_type": "code",
   "execution_count": null,
   "id": "0a131d5a",
   "metadata": {},
   "outputs": [],
   "source": []
  },
  {
   "cell_type": "markdown",
   "id": "0beafd16",
   "metadata": {},
   "source": [
    "### ADDING PANDAS DATAFRAME"
   ]
  },
  {
   "cell_type": "code",
   "execution_count": null,
   "id": "619c207c",
   "metadata": {},
   "outputs": [],
   "source": [
    "data = bt.feeds.PandasData(\n",
    "    dataname=_df,\n",
    "    name=ticker,\n",
    "    timeframe=bt.TimeFrame.Days,\n",
    "    open=5,\n",
    "    openinterest=-1\n",
    ")"
   ]
  }
 ],
 "metadata": {
  "kernelspec": {
   "display_name": "Python 3 (ipykernel)",
   "language": "python",
   "name": "python3"
  },
  "language_info": {
   "codemirror_mode": {
    "name": "ipython",
    "version": 3
   },
   "file_extension": ".py",
   "mimetype": "text/x-python",
   "name": "python",
   "nbconvert_exporter": "python",
   "pygments_lexer": "ipython3",
   "version": "3.10.4"
  }
 },
 "nbformat": 4,
 "nbformat_minor": 5
}
