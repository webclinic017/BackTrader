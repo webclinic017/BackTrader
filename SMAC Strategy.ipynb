{
 "cells": [
  {
   "cell_type": "markdown",
   "id": "07b09691",
   "metadata": {},
   "source": [
    "# Rolling Forecast or WFA >> Cross-Validation"
   ]
  },
  {
   "cell_type": "code",
   "execution_count": 1,
   "id": "df2e46d5",
   "metadata": {},
   "outputs": [],
   "source": [
    "from datetime import datetime\n",
    "import os\n",
    "import pandas as pd\n",
    "from copy import deepcopy\n",
    "import backtrader as bt\n",
    "import random"
   ]
  },
  {
   "cell_type": "code",
   "execution_count": 2,
   "id": "bbf62f88",
   "metadata": {},
   "outputs": [],
   "source": [
    "from _smac_strategy import SMAC\n",
    "from _acct_value import AcctStats, AcctValue\n",
    "from _position_sizing import PropSizer"
   ]
  },
  {
   "cell_type": "code",
   "execution_count": 3,
   "id": "4785008c",
   "metadata": {},
   "outputs": [],
   "source": [
    "# SET TIME PERIOD"
   ]
  },
  {
   "cell_type": "code",
   "execution_count": 4,
   "id": "a68274ee",
   "metadata": {},
   "outputs": [],
   "source": [
    "start = datetime(2010,1,1)\n",
    "end = datetime(2022,4,20)"
   ]
  },
  {
   "cell_type": "code",
   "execution_count": 5,
   "id": "7736eca6",
   "metadata": {},
   "outputs": [],
   "source": [
    "# GET DATA"
   ]
  },
  {
   "cell_type": "code",
   "execution_count": 6,
   "id": "8e92f8f0",
   "metadata": {},
   "outputs": [
    {
     "ename": "TypeError",
     "evalue": "expected str, bytes or os.PathLike object, not NoneType",
     "output_type": "error",
     "traceback": [
      "\u001b[0;31m---------------------------------------------------------------------------\u001b[0m",
      "\u001b[0;31mTypeError\u001b[0m                                 Traceback (most recent call last)",
      "Input \u001b[0;32mIn [6]\u001b[0m, in \u001b[0;36m<cell line: 1>\u001b[0;34m()\u001b[0m\n\u001b[0;32m----> 1\u001b[0m tickers_path \u001b[38;5;241m=\u001b[39m \u001b[43mos\u001b[49m\u001b[38;5;241;43m.\u001b[39;49m\u001b[43mpath\u001b[49m\u001b[38;5;241;43m.\u001b[39;49m\u001b[43mjoin\u001b[49m\u001b[43m(\u001b[49m\u001b[43mos\u001b[49m\u001b[38;5;241;43m.\u001b[39;49m\u001b[43mgetenv\u001b[49m\u001b[43m(\u001b[49m\u001b[38;5;124;43m\"\u001b[39;49m\u001b[38;5;124;43mSTOCK_DATA_PATH\u001b[39;49m\u001b[38;5;124;43m\"\u001b[39;49m\u001b[43m)\u001b[49m\u001b[43m,\u001b[49m\u001b[38;5;124;43m'\u001b[39;49m\u001b[38;5;124;43mOHLC_Yahoo\u001b[39;49m\u001b[38;5;124;43m'\u001b[39;49m\u001b[43m,\u001b[49m\u001b[38;5;124;43m'\u001b[39;49m\u001b[38;5;124;43m1D\u001b[39;49m\u001b[38;5;124;43m'\u001b[39;49m\u001b[43m)\u001b[49m\n",
      "File \u001b[0;32m~/miniforge3/envs/backtrader/lib/python3.8/posixpath.py:76\u001b[0m, in \u001b[0;36mjoin\u001b[0;34m(a, *p)\u001b[0m\n\u001b[1;32m     71\u001b[0m \u001b[38;5;28;01mdef\u001b[39;00m \u001b[38;5;21mjoin\u001b[39m(a, \u001b[38;5;241m*\u001b[39mp):\n\u001b[1;32m     72\u001b[0m     \u001b[38;5;124;03m\"\"\"Join two or more pathname components, inserting '/' as needed.\u001b[39;00m\n\u001b[1;32m     73\u001b[0m \u001b[38;5;124;03m    If any component is an absolute path, all previous path components\u001b[39;00m\n\u001b[1;32m     74\u001b[0m \u001b[38;5;124;03m    will be discarded.  An empty last part will result in a path that\u001b[39;00m\n\u001b[1;32m     75\u001b[0m \u001b[38;5;124;03m    ends with a separator.\"\"\"\u001b[39;00m\n\u001b[0;32m---> 76\u001b[0m     a \u001b[38;5;241m=\u001b[39m \u001b[43mos\u001b[49m\u001b[38;5;241;43m.\u001b[39;49m\u001b[43mfspath\u001b[49m\u001b[43m(\u001b[49m\u001b[43ma\u001b[49m\u001b[43m)\u001b[49m\n\u001b[1;32m     77\u001b[0m     sep \u001b[38;5;241m=\u001b[39m _get_sep(a)\n\u001b[1;32m     78\u001b[0m     path \u001b[38;5;241m=\u001b[39m a\n",
      "\u001b[0;31mTypeError\u001b[0m: expected str, bytes or os.PathLike object, not NoneType"
     ]
    }
   ],
   "source": [
    "tickers_path = os.path.join(os.getenv(\"STOCK_DATA_PATH\"),'OHLC_Yahoo','1D')"
   ]
  },
  {
   "cell_type": "code",
   "execution_count": null,
   "id": "44f2b3fb",
   "metadata": {},
   "outputs": [],
   "source": [
    "ticker_paths = [os.path.join(tickers_path,i) for i in os.listdir(tickers_path)]\n",
    "tickers = [t.replace('.csv','') for t in os.listdir(tickers_path)]"
   ]
  },
  {
   "cell_type": "code",
   "execution_count": null,
   "id": "929b6a08",
   "metadata": {},
   "outputs": [],
   "source": [
    "datafeeds = {}\n",
    "for ticker_path in ticker_paths:\n",
    "    ticker = os.path.basename(ticker_path).replace('.csv','')\n",
    "    df = pd.read_csv(ticker_path,parse_dates=True,index_col=0)\n",
    "    df = df.loc[[x for x in df.index if start<=x<=end]]\n",
    "    df['Close'] = df['Adj Close']\n",
    "    df.drop(\"Adj Close\",axis=1,inplace=True)\n",
    "    df['OpenInterest'] = 0\n",
    "    datafeeds[ticker] = deepcopy(df)"
   ]
  },
  {
   "cell_type": "code",
   "execution_count": null,
   "id": "6717e4f2",
   "metadata": {},
   "outputs": [],
   "source": [
    "[len(datafeeds[t]) for t in datafeeds]"
   ]
  },
  {
   "cell_type": "code",
   "execution_count": null,
   "id": "1065010e",
   "metadata": {},
   "outputs": [],
   "source": [
    "# APPLY STATEGY"
   ]
  },
  {
   "cell_type": "code",
   "execution_count": null,
   "id": "c849e8ba",
   "metadata": {},
   "outputs": [],
   "source": [
    "cerebro = bt.Cerebro(stdstats=False)\n",
    "\n",
    "plot_symbols = ['SPY','AMZN','WFC']\n",
    "\n",
    "is_first=True\n",
    "for s,df in datafeeds.items():\n",
    "    data = bt.feeds.PandasData(dataname=df,name=s)\n",
    "    if s in plot_symbols:\n",
    "        if is_first:\n",
    "            data_main_plot = data\n",
    "            is_first = False\n",
    "        else:\n",
    "            data.plotinfo.plotmaster = data_main_plot\n",
    "    else:\n",
    "        data.plotinfo.plot = False\n",
    "    cerebro.adddata(data)\n",
    "\n",
    "cerebro.broker.setcash(1000000)\n",
    "cerebro.broker.setcommission(0.01)\n",
    "cerebro.addstrategy(SMAC)\n",
    "cerebro.addobserver(AcctValue)\n",
    "cerebro.addobservermulti(bt.observers.BuySell) #Plotting Up/Down Arrows\n",
    "cerebro.addsizer(PropSizer)\n",
    "cerebro.addanalyzer(AcctStats)\n",
    "\n",
    "cerebro.run()"
   ]
  },
  {
   "cell_type": "code",
   "execution_count": null,
   "id": "a7263676",
   "metadata": {},
   "outputs": [],
   "source": [
    "cerebro.plot(iplot=True, volume=True)"
   ]
  },
  {
   "cell_type": "code",
   "execution_count": null,
   "id": "1e895ff2",
   "metadata": {},
   "outputs": [],
   "source": [
    "from _data_prep import TimeSeriesSplitImproved\n",
    "\n",
    "tscv = TimeSeriesSplitImproved(10)\n"
   ]
  },
  {
   "cell_type": "code",
   "execution_count": null,
   "id": "6453fe9d",
   "metadata": {},
   "outputs": [],
   "source": [
    "\n",
    "split = tscv.split(datafeeds['AAPL'],fixed_length=True, train_splits=2)"
   ]
  },
  {
   "cell_type": "code",
   "execution_count": null,
   "id": "d9a2e1b5",
   "metadata": {},
   "outputs": [],
   "source": [
    "windowset = set()\n",
    "while len(windowset)<40:\n",
    "    f = random.randint(1,10) *5\n",
    "    s = random.randint(1,10) *5\n",
    "    if f>s:\n",
    "        f,s = s,f\n",
    "        windowset.add((f,s))\n",
    "windows = list(windowset)"
   ]
  },
  {
   "cell_type": "code",
   "execution_count": null,
   "id": "7d4b1cf5",
   "metadata": {},
   "outputs": [],
   "source": [
    "wfa_results = list()\n",
    "\n",
    "for train,test in split:\n",
    "    # TRAINING\n",
    "    windowset = set()\n",
    "    while len(windowset)<40:\n",
    "        f = random.randint(1,10) *5\n",
    "        s = random.randint(1,10) *5\n",
    "        if f>s:\n",
    "            f,s = s,f\n",
    "            windowset.add((f,s))\n",
    "    windows = list(windowset)\n",
    "    \n",
    "    trainer = bt.Cerebro(stdstats=False,maxcpus=1)\n",
    "    trainer.broker.setcash(1000000)\n",
    "    trainer.broker.setcommission(0.01)\n",
    "    trainer.addanalyzer(AcctStats)\n",
    "    trainer.addsizer(PropSizer)\n",
    "    \n",
    "    tester = deepcopy(trainer)\n",
    "    \n",
    "    trainer.optstrategy(SMAC, optim=True, optim_fs=windows)\n",
    "    \n",
    "    for s,df in datafeeds.items():\n",
    "        data = bt.feeds.PandasData(dataname=df.iloc[train],name=s)\n",
    "        \n",
    "        trainer.adddata(data)\n",
    "        \n",
    "    res = trainer.run()\n",
    "    \n",
    "    # Get Optimal combination\n",
    "    opt_res = pd.DataFrame(\n",
    "        {r[0].params.optim_fs:r[0].analyzers.acctstats.get_analysis() for r in res}\n",
    "    ).T.loc[:,'return'].sort_values(ascending=False).index[0]\n",
    "    \n",
    "    # TESTING\n",
    "    tester.addstrategy(SMAC, optim=True, optim_fs=opt_res)\n",
    "    for s,df in datafeeds.items():\n",
    "        data = bt.feeds.PandasData(dataname=df.iloc[test],name=s)\n",
    "        tester.adddata(data)\n",
    "    \n",
    "    res = tester.run()\n",
    "    res_dict = res[0].analyzers.acctstats.get_analysis\n",
    "    res_dict['fast'],res_dict['slow'] = opt_res\n",
    "    res_dict['start_date'] = datafeeds['AAPL'].iloc[test[0]].name\n",
    "    res_dict['end_data'] = datafeeds['AAPL'].iloc[test[-1]].name\n",
    "    walk_forward_results.append(res_dict)\n"
   ]
  },
  {
   "cell_type": "code",
   "execution_count": null,
   "id": "fad09f64",
   "metadata": {},
   "outputs": [],
   "source": [
    "wfdf = pd.DataFrame(walk_forward_results)\n",
    "wfdf"
   ]
  }
 ],
 "metadata": {
  "kernelspec": {
   "display_name": "Python 3 (ipykernel)",
   "language": "python",
   "name": "python3"
  },
  "language_info": {
   "codemirror_mode": {
    "name": "ipython",
    "version": 3
   },
   "file_extension": ".py",
   "mimetype": "text/x-python",
   "name": "python",
   "nbconvert_exporter": "python",
   "pygments_lexer": "ipython3",
   "version": "3.8.2"
  }
 },
 "nbformat": 4,
 "nbformat_minor": 5
}
